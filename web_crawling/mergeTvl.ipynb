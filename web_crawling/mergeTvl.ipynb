{
 "cells": [
  {
   "cell_type": "code",
   "execution_count": 1,
   "metadata": {},
   "outputs": [
    {
     "name": "stderr",
     "output_type": "stream",
     "text": [
      "WARNING: Ignoring invalid distribution -ip (c:\\python310\\lib\\site-packages)\n",
      "WARNING: Ignoring invalid distribution -ip (c:\\python310\\lib\\site-packages)\n",
      "\n",
      "[notice] A new release of pip is available: 23.1.2 -> 24.2\n",
      "[notice] To update, run: python.exe -m pip install --upgrade pip\n"
     ]
    }
   ],
   "source": [
    "!pip install -q polars"
   ]
  },
  {
   "cell_type": "code",
   "execution_count": 12,
   "metadata": {},
   "outputs": [
    {
     "name": "stdout",
     "output_type": "stream",
     "text": [
      "c:\\Users\\32mou\\OneDrive\\바탕 화면\\adfadsfaf\\snapshot\\defillama\n"
     ]
    }
   ],
   "source": [
    "import sys\n",
    "import os\n",
    "\n",
    "current_dir = os.getcwd()\n",
    "parent_dir = os.path.dirname(current_dir)\n",
    "sys.path.append(parent_dir)\n"
   ]
  },
  {
   "cell_type": "code",
   "execution_count": null,
   "metadata": {},
   "outputs": [],
   "source": [
    "import polars as pl\n",
    "from datetime import datetime\n",
    "from util import *"
   ]
  },
  {
   "cell_type": "markdown",
   "metadata": {},
   "source": [
    "# Web Crawling"
   ]
  },
  {
   "cell_type": "code",
   "execution_count": 1,
   "metadata": {},
   "outputs": [
    {
     "data": {
      "text/plain": [
       "4539"
      ]
     },
     "execution_count": 1,
     "metadata": {},
     "output_type": "execute_result"
    }
   ],
   "source": [
    "min_date = []\n",
    "max_date = []\n",
    "files = os.listdir(\"result\")\n",
    "len(files)"
   ]
  },
  {
   "cell_type": "code",
   "execution_count": 2,
   "metadata": {},
   "outputs": [
    {
     "name": "stdout",
     "output_type": "stream",
     "text": [
      "debridge.csv has duplicates\n",
      "shape: (7, 2)\n",
      "┌─────────────────────┬───────┐\n",
      "│ date                ┆ count │\n",
      "│ ---                 ┆ ---   │\n",
      "│ datetime[μs]        ┆ u32   │\n",
      "╞═════════════════════╪═══════╡\n",
      "│ 2022-02-25 21:00:00 ┆ 2     │\n",
      "│ 2022-02-26 12:00:00 ┆ 2     │\n",
      "│ 2022-02-28 16:00:00 ┆ 2     │\n",
      "│ 2022-03-01 08:00:00 ┆ 2     │\n",
      "│ 2022-07-06 20:59:00 ┆ 2     │\n",
      "│ 2022-07-12 21:00:00 ┆ 2     │\n",
      "│ 2022-07-13 05:03:00 ┆ 2     │\n",
      "└─────────────────────┴───────┘\n",
      "fantom.csv has duplicates\n",
      "shape: (5, 2)\n",
      "┌─────────────────────┬───────┐\n",
      "│ date                ┆ count │\n",
      "│ ---                 ┆ ---   │\n",
      "│ datetime[μs]        ┆ u32   │\n",
      "╞═════════════════════╪═══════╡\n",
      "│ 2021-03-28 10:02:00 ┆ 2     │\n",
      "│ 2021-05-22 21:42:00 ┆ 2     │\n",
      "│ 2021-05-22 23:36:00 ┆ 2     │\n",
      "│ 2021-05-23 01:06:00 ┆ 2     │\n",
      "│ 2021-06-26 05:57:00 ┆ 2     │\n",
      "└─────────────────────┴───────┘\n",
      "2018-04-27 09:00:00 2024-08-18 16:39:00\n"
     ]
    }
   ],
   "source": [
    "for d in files:\n",
    "    df = pl.read_csv(f\"result/{d}\").sort(\"date\")\n",
    "    if df.height > 2 and df[-1, \"date\"] == df[-2, \"date\"]:\n",
    "        df = df[:-1]\n",
    "    df = cast_datetime(df)\n",
    "    df = truncate_datetime(df, trun=\"1m\")\n",
    "\n",
    "    temp = df[\"date\"].value_counts().sort(\"date\").filter(pl.col(\"count\") > 1)\n",
    "    if temp.shape[0]:\n",
    "        print(d, \"has duplicates\")\n",
    "        print(temp)\n",
    "\n",
    "    df = df.unique(\"date\", keep=\"last\")\n",
    "    min_date.append(df[\"date\"].dt.min())\n",
    "    max_date.append(df[\"date\"].dt.max())\n",
    "\n",
    "\n",
    "min_date = pl.Series(\"min_date\", min_date).dt.min()\n",
    "max_date = pl.Series(\"max_date\", max_date).dt.max()\n",
    "\n",
    "print(min_date, max_date)\n",
    "\n",
    "result_raw = get_empty_result(\n",
    "    min_date, max_date, col=\"date\")"
   ]
  },
  {
   "cell_type": "code",
   "execution_count": 10,
   "metadata": {},
   "outputs": [],
   "source": [
    "STEP = 500\n",
    "os.listdir(\"result\")\n",
    "\n",
    "for i in range(0, len(files), STEP):\n",
    "    result = result_raw\n",
    "    for d in files[i:i+STEP]:\n",
    "        df = pl.read_csv(f\"result/{d}\").sort(\"date\")\n",
    "        if df.height > 2 and df[-1, \"date\"] == df[-2, \"date\"]:\n",
    "            df = df[:-1]\n",
    "        df = cast_column_type_without_date(df)\n",
    "        df = cast_datetime(df, has_ms=False, col=\"date\")\n",
    "        df = truncate_datetime(df, \"date\", \"1m\")\n",
    "        df = leave_first_last(df, d[:-4])\n",
    "\n",
    "        result = result.join(df, on=\"date\", how=\"left\")\n",
    "\n",
    "    result = drop_null_rows(result)\n",
    "    result = result.sort(\"date\")\n",
    "    result.write_csv(f\"result{STEP}/result{i}.csv\")"
   ]
  },
  {
   "cell_type": "markdown",
   "metadata": {},
   "source": [
    "# 1 hour step"
   ]
  },
  {
   "cell_type": "code",
   "execution_count": 11,
   "metadata": {},
   "outputs": [],
   "source": [
    "import os\n",
    "import polars as pl\n",
    "from util import change_hourly, cast_column_type_without_date\n",
    "\n",
    "def hourly_df(path):\n",
    "    df = cast_datetime(pl.read_csv(path), has_ms=True)\n",
    "    df = cast_column_type_without_date(df, float)\n",
    "\n",
    "    df = df.with_columns([\n",
    "        pl.col('date').dt.truncate('1h').alias('hourly_date')])\n",
    "\n",
    "    hourly_df = change_hourly(df)\n",
    "\n",
    "    return hourly_df.sort('hourly_date').drop(['date'])"
   ]
  },
  {
   "cell_type": "code",
   "execution_count": 17,
   "metadata": {},
   "outputs": [
    {
     "name": "stderr",
     "output_type": "stream",
     "text": [
      "c:\\Users\\32mou\\OneDrive\\바탕 화면\\adfadsfaf\\snapshot\\defillama\\util.py:46: ChronoFormatWarning: Detected the pattern `.%f` in the chrono format string. This pattern should not be used to parse values after a decimal point. Use `%.f` instead. See the full specification: https://docs.rs/chrono/latest/chrono/format/strftime\n",
      "  pl.col(col).str.to_datetime(\n"
     ]
    }
   ],
   "source": [
    "STEP = 2000\n",
    "os.makedirs(f\"result{STEP}\", exist_ok=True)\n",
    "\n",
    "for start in range(0, len(files), STEP):\n",
    "    df1 = hourly_df(f\"result500/result{start}.csv\")\n",
    "    df2 = hourly_df(f\"result500/result{start+500}.csv\")\n",
    "    result = df1.join(df2, on=\"hourly_date\", how=\"full\", coalesce=True)\n",
    "    \n",
    "    if os.path.isfile(f\"result500/result{start+1000}.csv\"):\n",
    "        df3 = hourly_df(f\"result500/result{start+1000}.csv\")\n",
    "        result = result.join(df3, on=\"hourly_date\", how=\"full\", coalesce=True)\n",
    "    if os.path.isfile(f\"result500/result{start+1500}.csv\"):\n",
    "        df4 = hourly_df(f\"result500/result{start+1500}.csv\")     \n",
    "        result = result.join(df4, on=\"hourly_date\", how=\"full\", coalesce=True)\n",
    "        \n",
    "    result.write_csv(f\"result{STEP}/result{start}.csv\")"
   ]
  }
 ],
 "metadata": {
  "kernelspec": {
   "display_name": "Python 3",
   "language": "python",
   "name": "python3"
  },
  "language_info": {
   "codemirror_mode": {
    "name": "ipython",
    "version": 3
   },
   "file_extension": ".py",
   "mimetype": "text/x-python",
   "name": "python",
   "nbconvert_exporter": "python",
   "pygments_lexer": "ipython3",
   "version": "3.10.5"
  }
 },
 "nbformat": 4,
 "nbformat_minor": 2
}
