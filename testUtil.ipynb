{
 "cells": [
  {
   "cell_type": "code",
   "execution_count": 1,
   "metadata": {},
   "outputs": [],
   "source": [
    "from util import *\n",
    "import polars as pl\n",
    "import pandas as pd"
   ]
  },
  {
   "cell_type": "code",
   "execution_count": 5,
   "metadata": {},
   "outputs": [
    {
     "name": "stdout",
     "output_type": "stream",
     "text": [
      "shape: (8, 1)\n",
      "┌─────┐\n",
      "│ col │\n",
      "│ --- │\n",
      "│ i64 │\n",
      "╞═════╡\n",
      "│ 1   │\n",
      "│ 1   │\n",
      "│ 2   │\n",
      "│ 2   │\n",
      "│ 3   │\n",
      "│ 3   │\n",
      "│ 4   │\n",
      "│ 4   │\n",
      "└─────┘\n"
     ]
    }
   ],
   "source": [
    "import polars as pl\n",
    "\n",
    "# 데이터프레임 생성\n",
    "df = pl.DataFrame({\n",
    "    \"col\": [1, 1, 1, 2, 2, 3, 3, 3, 4, 4]\n",
    "})\n",
    "\n",
    "df = leave_first_last(df, \"col\")\n",
    "print(df)\n"
   ]
  },
  {
   "cell_type": "code",
   "execution_count": 10,
   "metadata": {},
   "outputs": [
    {
     "name": "stdout",
     "output_type": "stream",
     "text": [
      "shape: (5, 5)\n",
      "┌─────────────────────┬─────────────────────┬───────────┬───────────┬───────────┐\n",
      "│ hourly_date         ┆ date                ┆ company_A ┆ company_B ┆ company_C │\n",
      "│ ---                 ┆ ---                 ┆ ---       ┆ ---       ┆ ---       │\n",
      "│ str                 ┆ str                 ┆ i64       ┆ i64       ┆ null      │\n",
      "╞═════════════════════╪═════════════════════╪═══════════╪═══════════╪═══════════╡\n",
      "│ 2024-01-01 01:00:00 ┆ 2024-01-01 01:02:00 ┆ 1         ┆ 5         ┆ null      │\n",
      "│ 2024-01-01 02:00:00 ┆ 2024-01-01 02:00:50 ┆ 2         ┆ null      ┆ null      │\n",
      "│ 2024-01-01 01:00:00 ┆ 2024-01-01 01:40:00 ┆ null      ┆ 7         ┆ null      │\n",
      "│ 2024-01-01 02:00:00 ┆ 2024-01-01 02:00:30 ┆ 4         ┆ 8         ┆ null      │\n",
      "│ 2024-01-01 03:00:00 ┆ 2024-01-01 03:00:00 ┆ null      ┆ null      ┆ null      │\n",
      "└─────────────────────┴─────────────────────┴───────────┴───────────┴───────────┘\n"
     ]
    }
   ],
   "source": [
    "df = pl.DataFrame({\n",
    "    \"hourly_date\": [\"2024-01-01 01:00:00\", \"2024-01-01 02:00:00\", \"2024-01-01 01:00:00\", \"2024-01-01 02:00:00\", \"2024-01-01 03:00:00\"],\n",
    "    \"date\": [\"2024-01-01 01:02:00\", \"2024-01-01 02:00:50\", \"2024-01-01 01:40:00\", \"2024-01-01 02:00:30\", \"2024-01-01 03:00:00\"],\n",
    "    \"company_A\": [1, 2, None, 4, None],\n",
    "    \"company_B\": [5, None, 7, 8, None],\n",
    "    \"company_C\": [None, None, None, None, None]\n",
    "})\n",
    "\n",
    "print(df)"
   ]
  },
  {
   "cell_type": "code",
   "execution_count": 11,
   "metadata": {},
   "outputs": [
    {
     "name": "stdout",
     "output_type": "stream",
     "text": [
      "\n",
      "Dropped rows with all null values:\n",
      "shape: (4, 5)\n",
      "┌─────────────────────┬─────────────────────┬───────────┬───────────┬───────────┐\n",
      "│ hourly_date         ┆ date                ┆ company_A ┆ company_B ┆ company_C │\n",
      "│ ---                 ┆ ---                 ┆ ---       ┆ ---       ┆ ---       │\n",
      "│ str                 ┆ str                 ┆ i64       ┆ i64       ┆ null      │\n",
      "╞═════════════════════╪═════════════════════╪═══════════╪═══════════╪═══════════╡\n",
      "│ 2024-01-01 01:00:00 ┆ 2024-01-01 01:02:00 ┆ 1         ┆ 5         ┆ null      │\n",
      "│ 2024-01-01 02:00:00 ┆ 2024-01-01 02:00:50 ┆ 2         ┆ null      ┆ null      │\n",
      "│ 2024-01-01 01:00:00 ┆ 2024-01-01 01:40:00 ┆ null      ┆ 7         ┆ null      │\n",
      "│ 2024-01-01 02:00:00 ┆ 2024-01-01 02:00:30 ┆ 4         ┆ 8         ┆ null      │\n",
      "└─────────────────────┴─────────────────────┴───────────┴───────────┴───────────┘\n"
     ]
    }
   ],
   "source": [
    "non_null_df = drop_null_rows(df)\n",
    "\n",
    "print(\"\\nDropped rows with all null values:\")\n",
    "print(non_null_df)"
   ]
  },
  {
   "cell_type": "code",
   "execution_count": 12,
   "metadata": {},
   "outputs": [
    {
     "name": "stdout",
     "output_type": "stream",
     "text": [
      "\n",
      "Aggregated DataFrame:\n",
      "shape: (3, 5)\n",
      "┌─────────────────────┬──────┬───────────┬───────────┬───────────┐\n",
      "│ hourly_date         ┆ date ┆ company_A ┆ company_B ┆ company_C │\n",
      "│ ---                 ┆ ---  ┆ ---       ┆ ---       ┆ ---       │\n",
      "│ str                 ┆ str  ┆ f64       ┆ f64       ┆ null      │\n",
      "╞═════════════════════╪══════╪═══════════╪═══════════╪═══════════╡\n",
      "│ 2024-01-01 01:00:00 ┆ null ┆ 1.0       ┆ 6.0       ┆ null      │\n",
      "│ 2024-01-01 02:00:00 ┆ null ┆ 3.0       ┆ 8.0       ┆ null      │\n",
      "│ 2024-01-01 03:00:00 ┆ null ┆ null      ┆ null      ┆ null      │\n",
      "└─────────────────────┴──────┴───────────┴───────────┴───────────┘\n"
     ]
    }
   ],
   "source": [
    "hourly_df = change_hourly(df, col=\"hourly_date\")\n",
    "\n",
    "print(\"\\nAggregated DataFrame:\")\n",
    "print(hourly_df)"
   ]
  },
  {
   "cell_type": "code",
   "execution_count": 16,
   "metadata": {},
   "outputs": [
    {
     "name": "stderr",
     "output_type": "stream",
     "text": [
      "Traceback (most recent call last):\n",
      "  File \"_pydevd_bundle/pydevd_cython.pyx\", line 1134, in _pydevd_bundle.pydevd_cython.PyDBFrame.trace_dispatch\n",
      "  File \"_pydevd_bundle/pydevd_cython.pyx\", line 311, in _pydevd_bundle.pydevd_cython.PyDBFrame.do_wait_suspend\n",
      "  File \"c:\\Python310\\lib\\site-packages\\debugpy\\_vendored\\pydevd\\pydevd.py\", line 2062, in do_wait_suspend\n",
      "    keep_suspended = self._do_wait_suspend(thread, frame, event, arg, suspend_type, from_this_thread, frames_tracker)\n",
      "  File \"c:\\Python310\\lib\\site-packages\\debugpy\\_vendored\\pydevd\\pydevd.py\", line 2098, in _do_wait_suspend\n",
      "    time.sleep(0.01)\n",
      "KeyboardInterrupt\n"
     ]
    },
    {
     "ename": "KeyboardInterrupt",
     "evalue": "",
     "output_type": "error",
     "traceback": [
      "\u001b[1;31m---------------------------------------------------------------------------\u001b[0m",
      "\u001b[1;31mKeyboardInterrupt\u001b[0m                         Traceback (most recent call last)",
      "Input \u001b[1;32mIn [16]\u001b[0m, in \u001b[0;36m<cell line: 1>\u001b[1;34m()\u001b[0m\n\u001b[1;32m----> 1\u001b[0m float_df \u001b[38;5;241m=\u001b[39m \u001b[43mcast_column_type_without_date\u001b[49m(df, \u001b[38;5;28mfloat\u001b[39m, start_colnum\u001b[38;5;241m=\u001b[39m\u001b[38;5;241m2\u001b[39m)\n\u001b[0;32m      3\u001b[0m \u001b[38;5;28mprint\u001b[39m(\u001b[38;5;124m\"\u001b[39m\u001b[38;5;124m\\\u001b[39m\u001b[38;5;124mCasted DataFrame:\u001b[39m\u001b[38;5;124m\"\u001b[39m)\n\u001b[0;32m      4\u001b[0m \u001b[38;5;28mprint\u001b[39m(float_df)\n",
      "Input \u001b[1;32mIn [16]\u001b[0m, in \u001b[0;36m<cell line: 1>\u001b[1;34m()\u001b[0m\n\u001b[1;32m----> 1\u001b[0m float_df \u001b[38;5;241m=\u001b[39m \u001b[43mcast_column_type_without_date\u001b[49m(df, \u001b[38;5;28mfloat\u001b[39m, start_colnum\u001b[38;5;241m=\u001b[39m\u001b[38;5;241m2\u001b[39m)\n\u001b[0;32m      3\u001b[0m \u001b[38;5;28mprint\u001b[39m(\u001b[38;5;124m\"\u001b[39m\u001b[38;5;124m\\\u001b[39m\u001b[38;5;124mCasted DataFrame:\u001b[39m\u001b[38;5;124m\"\u001b[39m)\n\u001b[0;32m      4\u001b[0m \u001b[38;5;28mprint\u001b[39m(float_df)\n",
      "File \u001b[1;32m_pydevd_bundle/pydevd_cython.pyx:1443\u001b[0m, in \u001b[0;36m_pydevd_bundle.pydevd_cython.SafeCallWrapper.__call__\u001b[1;34m()\u001b[0m\n",
      "File \u001b[1;32m_pydevd_bundle/pydevd_cython.pyx:700\u001b[0m, in \u001b[0;36m_pydevd_bundle.pydevd_cython.PyDBFrame.trace_dispatch\u001b[1;34m()\u001b[0m\n",
      "File \u001b[1;32m_pydevd_bundle/pydevd_cython.pyx:1143\u001b[0m, in \u001b[0;36m_pydevd_bundle.pydevd_cython.PyDBFrame.trace_dispatch\u001b[1;34m()\u001b[0m\n",
      "File \u001b[1;32m_pydevd_bundle/pydevd_cython.pyx:1134\u001b[0m, in \u001b[0;36m_pydevd_bundle.pydevd_cython.PyDBFrame.trace_dispatch\u001b[1;34m()\u001b[0m\n",
      "File \u001b[1;32m_pydevd_bundle/pydevd_cython.pyx:311\u001b[0m, in \u001b[0;36m_pydevd_bundle.pydevd_cython.PyDBFrame.do_wait_suspend\u001b[1;34m()\u001b[0m\n",
      "File \u001b[1;32mc:\\Python310\\lib\\site-packages\\debugpy\\_vendored\\pydevd\\pydevd.py:2062\u001b[0m, in \u001b[0;36mPyDB.do_wait_suspend\u001b[1;34m(self, thread, frame, event, arg, exception_type)\u001b[0m\n\u001b[0;32m   2059\u001b[0m             from_this_thread\u001b[38;5;241m.\u001b[39mappend(frame_custom_thread_id)\n\u001b[0;32m   2061\u001b[0m     \u001b[38;5;28;01mwith\u001b[39;00m \u001b[38;5;28mself\u001b[39m\u001b[38;5;241m.\u001b[39m_threads_suspended_single_notification\u001b[38;5;241m.\u001b[39mnotify_thread_suspended(thread_id, stop_reason):\n\u001b[1;32m-> 2062\u001b[0m         keep_suspended \u001b[38;5;241m=\u001b[39m \u001b[38;5;28;43mself\u001b[39;49m\u001b[38;5;241;43m.\u001b[39;49m\u001b[43m_do_wait_suspend\u001b[49m\u001b[43m(\u001b[49m\u001b[43mthread\u001b[49m\u001b[43m,\u001b[49m\u001b[43m \u001b[49m\u001b[43mframe\u001b[49m\u001b[43m,\u001b[49m\u001b[43m \u001b[49m\u001b[43mevent\u001b[49m\u001b[43m,\u001b[49m\u001b[43m \u001b[49m\u001b[43marg\u001b[49m\u001b[43m,\u001b[49m\u001b[43m \u001b[49m\u001b[43msuspend_type\u001b[49m\u001b[43m,\u001b[49m\u001b[43m \u001b[49m\u001b[43mfrom_this_thread\u001b[49m\u001b[43m,\u001b[49m\u001b[43m \u001b[49m\u001b[43mframes_tracker\u001b[49m\u001b[43m)\u001b[49m\n\u001b[0;32m   2064\u001b[0m frames_list \u001b[38;5;241m=\u001b[39m \u001b[38;5;28;01mNone\u001b[39;00m\n\u001b[0;32m   2066\u001b[0m \u001b[38;5;28;01mif\u001b[39;00m keep_suspended:\n\u001b[0;32m   2067\u001b[0m     \u001b[38;5;66;03m# This means that we should pause again after a set next statement.\u001b[39;00m\n",
      "File \u001b[1;32mc:\\Python310\\lib\\site-packages\\debugpy\\_vendored\\pydevd\\pydevd.py:2098\u001b[0m, in \u001b[0;36mPyDB._do_wait_suspend\u001b[1;34m(self, thread, frame, event, arg, suspend_type, from_this_thread, frames_tracker)\u001b[0m\n\u001b[0;32m   2095\u001b[0m         \u001b[38;5;28mself\u001b[39m\u001b[38;5;241m.\u001b[39m_call_input_hook()\n\u001b[0;32m   2097\u001b[0m     \u001b[38;5;28mself\u001b[39m\u001b[38;5;241m.\u001b[39mprocess_internal_commands()\n\u001b[1;32m-> 2098\u001b[0m     \u001b[43mtime\u001b[49m\u001b[38;5;241;43m.\u001b[39;49m\u001b[43msleep\u001b[49m\u001b[43m(\u001b[49m\u001b[38;5;241;43m0.01\u001b[39;49m\u001b[43m)\u001b[49m\n\u001b[0;32m   2100\u001b[0m \u001b[38;5;28mself\u001b[39m\u001b[38;5;241m.\u001b[39mcancel_async_evaluation(get_current_thread_id(thread), \u001b[38;5;28mstr\u001b[39m(\u001b[38;5;28mid\u001b[39m(frame)))\n\u001b[0;32m   2102\u001b[0m \u001b[38;5;66;03m# process any stepping instructions\u001b[39;00m\n",
      "\u001b[1;31mKeyboardInterrupt\u001b[0m: "
     ]
    }
   ],
   "source": [
    "float_df = cast_column_type_without_date(df, float, start_colnum=2)\n",
    "\n",
    "print(\"\\Casted DataFrame:\")\n",
    "print(float_df)"
   ]
  },
  {
   "cell_type": "code",
   "execution_count": 14,
   "metadata": {},
   "outputs": [
    {
     "name": "stdout",
     "output_type": "stream",
     "text": [
      "\n",
      "Casted DateTime DataFrame:\n",
      "shape: (5, 5)\n",
      "┌─────────────────────┬─────────────────────┬───────────┬───────────┬───────────┐\n",
      "│ hourly_date         ┆ date                ┆ company_A ┆ company_B ┆ company_C │\n",
      "│ ---                 ┆ ---                 ┆ ---       ┆ ---       ┆ ---       │\n",
      "│ str                 ┆ datetime[μs]        ┆ i64       ┆ i64       ┆ null      │\n",
      "╞═════════════════════╪═════════════════════╪═══════════╪═══════════╪═══════════╡\n",
      "│ 2024-01-01 01:00:00 ┆ 2024-01-01 01:02:00 ┆ 1         ┆ 5         ┆ null      │\n",
      "│ 2024-01-01 02:00:00 ┆ 2024-01-01 02:00:50 ┆ 2         ┆ null      ┆ null      │\n",
      "│ 2024-01-01 01:00:00 ┆ 2024-01-01 01:40:00 ┆ null      ┆ 7         ┆ null      │\n",
      "│ 2024-01-01 02:00:00 ┆ 2024-01-01 02:00:30 ┆ 4         ┆ 8         ┆ null      │\n",
      "│ 2024-01-01 03:00:00 ┆ 2024-01-01 03:00:00 ┆ null      ┆ null      ┆ null      │\n",
      "└─────────────────────┴─────────────────────┴───────────┴───────────┴───────────┘\n"
     ]
    }
   ],
   "source": [
    "dt_df = cast_datetime(df, has_ms=False, col=\"date\")\n",
    "\n",
    "print(\"\\nCasted DateTime DataFrame:\")\n",
    "print(dt_df)"
   ]
  },
  {
   "cell_type": "code",
   "execution_count": 15,
   "metadata": {},
   "outputs": [
    {
     "name": "stdout",
     "output_type": "stream",
     "text": [
      "\n",
      "Truncated DateTime DataFrame:\n",
      "shape: (5, 5)\n",
      "┌─────────────────────┬─────────────────────┬───────────┬───────────┬───────────┐\n",
      "│ hourly_date         ┆ date                ┆ company_A ┆ company_B ┆ company_C │\n",
      "│ ---                 ┆ ---                 ┆ ---       ┆ ---       ┆ ---       │\n",
      "│ str                 ┆ datetime[μs]        ┆ i64       ┆ i64       ┆ null      │\n",
      "╞═════════════════════╪═════════════════════╪═══════════╪═══════════╪═══════════╡\n",
      "│ 2024-01-01 01:00:00 ┆ 2024-01-01 01:02:00 ┆ 1         ┆ 5         ┆ null      │\n",
      "│ 2024-01-01 02:00:00 ┆ 2024-01-01 02:00:00 ┆ 2         ┆ null      ┆ null      │\n",
      "│ 2024-01-01 01:00:00 ┆ 2024-01-01 01:40:00 ┆ null      ┆ 7         ┆ null      │\n",
      "│ 2024-01-01 02:00:00 ┆ 2024-01-01 02:00:00 ┆ 4         ┆ 8         ┆ null      │\n",
      "│ 2024-01-01 03:00:00 ┆ 2024-01-01 03:00:00 ┆ null      ┆ null      ┆ null      │\n",
      "└─────────────────────┴─────────────────────┴───────────┴───────────┴───────────┘\n"
     ]
    }
   ],
   "source": [
    "trun_df = truncate_datetime(dt_df, col=\"date\", trun=\"1m\")\n",
    "\n",
    "print(\"\\nTruncated DateTime DataFrame:\")\n",
    "print(trun_df)"
   ]
  },
  {
   "cell_type": "code",
   "execution_count": null,
   "metadata": {},
   "outputs": [],
   "source": []
  }
 ],
 "metadata": {
  "kernelspec": {
   "display_name": "Python 3",
   "language": "python",
   "name": "python3"
  },
  "language_info": {
   "codemirror_mode": {
    "name": "ipython",
    "version": 3
   },
   "file_extension": ".py",
   "mimetype": "text/x-python",
   "name": "python",
   "nbconvert_exporter": "python",
   "pygments_lexer": "ipython3",
   "version": "3.10.5"
  }
 },
 "nbformat": 4,
 "nbformat_minor": 2
}
