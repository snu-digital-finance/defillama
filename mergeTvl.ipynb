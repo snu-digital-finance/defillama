{
 "cells": [
  {
   "cell_type": "code",
   "execution_count": 1,
   "metadata": {},
   "outputs": [
    {
     "name": "stderr",
     "output_type": "stream",
     "text": [
      "WARNING: Ignoring invalid distribution -ip (c:\\python310\\lib\\site-packages)\n",
      "WARNING: Ignoring invalid distribution -ip (c:\\python310\\lib\\site-packages)\n",
      "\n",
      "[notice] A new release of pip is available: 23.1.2 -> 24.2\n",
      "[notice] To update, run: python.exe -m pip install --upgrade pip\n"
     ]
    }
   ],
   "source": [
    "!pip install -q polars"
   ]
  },
  {
   "cell_type": "code",
   "execution_count": 2,
   "metadata": {},
   "outputs": [
    {
     "data": {
      "text/plain": [
       "4539"
      ]
     },
     "execution_count": 2,
     "metadata": {},
     "output_type": "execute_result"
    }
   ],
   "source": [
    "import polars as pl\n",
    "import os\n",
    "from datetime import datetime\n",
    "\n",
    "min_date = []\n",
    "max_date = []\n",
    "files = os.listdir(\"result\")\n",
    "len(files)"
   ]
  },
  {
   "cell_type": "code",
   "execution_count": 3,
   "metadata": {},
   "outputs": [
    {
     "name": "stdout",
     "output_type": "stream",
     "text": [
      "debridge.csv has duplicates\n",
      "shape: (14, 2)\n",
      "┌─────────────────────┬───────┐\n",
      "│ date                ┆ count │\n",
      "│ ---                 ┆ ---   │\n",
      "│ datetime[μs]        ┆ u32   │\n",
      "╞═════════════════════╪═══════╡\n",
      "│ 2022-02-25 21:00:00 ┆ 2     │\n",
      "│ 2022-02-26 12:00:00 ┆ 2     │\n",
      "│ 2022-02-26 17:59:00 ┆ 2     │\n",
      "│ 2022-02-27 01:00:00 ┆ 2     │\n",
      "│ 2022-02-28 00:02:00 ┆ 2     │\n",
      "│ …                   ┆ …     │\n",
      "│ 2022-07-06 20:59:00 ┆ 2     │\n",
      "│ 2022-07-12 21:00:00 ┆ 2     │\n",
      "│ 2022-07-13 05:03:00 ┆ 2     │\n",
      "│ 2022-10-20 21:19:00 ┆ 2     │\n",
      "│ 2022-10-21 20:40:00 ┆ 2     │\n",
      "└─────────────────────┴───────┘\n",
      "fantom.csv has duplicates\n",
      "shape: (6, 2)\n",
      "┌─────────────────────┬───────┐\n",
      "│ date                ┆ count │\n",
      "│ ---                 ┆ ---   │\n",
      "│ datetime[μs]        ┆ u32   │\n",
      "╞═════════════════════╪═══════╡\n",
      "│ 2021-03-28 10:02:00 ┆ 2     │\n",
      "│ 2021-05-22 21:40:00 ┆ 2     │\n",
      "│ 2021-05-22 21:42:00 ┆ 2     │\n",
      "│ 2021-05-22 23:36:00 ┆ 2     │\n",
      "│ 2021-05-23 01:06:00 ┆ 2     │\n",
      "│ 2021-06-26 05:57:00 ┆ 2     │\n",
      "└─────────────────────┴───────┘\n",
      "2018-04-27 09:00:00 2024-08-18 16:39:00\n"
     ]
    }
   ],
   "source": [
    "\n",
    "\n",
    "for d in files:\n",
    "    df = pl.read_csv(f\"result/{d}\").sort(\"date\")\n",
    "    if df.height > 2 and df[-1, \"date\"] == df[-2, \"date\"]:\n",
    "        df = df[:-1]\n",
    "    df = df.with_columns(\n",
    "        pl.col(\"date\").str.to_datetime(format=\"%Y-%m-%d %H:%M:%S\").dt.truncate(\"1m\")\n",
    "    )\n",
    "\n",
    "    temp = df[\"date\"].value_counts().sort(\"date\").filter(pl.col(\"count\") > 1)\n",
    "    if temp.shape[0]:\n",
    "        print(d, \"has duplicates\")\n",
    "        print(temp)\n",
    "\n",
    "    df = df.unique(\"date\", keep=\"last\")\n",
    "    min_date.append(df[\"date\"].dt.min())\n",
    "    max_date.append(df[\"date\"].dt.max())\n",
    "\n",
    "\n",
    "min_date = pl.Series(\"min_date\", min_date).dt.min()\n",
    "max_date = pl.Series(\"max_date\", max_date).dt.max()\n",
    "\n",
    "print(min_date, max_date)"
   ]
  },
  {
   "cell_type": "code",
   "execution_count": 4,
   "metadata": {},
   "outputs": [
    {
     "data": {
      "text/html": [
       "<div><style>\n",
       ".dataframe > thead > tr,\n",
       ".dataframe > tbody > tr {\n",
       "  text-align: right;\n",
       "  white-space: pre-wrap;\n",
       "}\n",
       "</style>\n",
       "<small>shape: (3_319_660, 1)</small><table border=\"1\" class=\"dataframe\"><thead><tr><th>date</th></tr><tr><td>datetime[μs]</td></tr></thead><tbody><tr><td>2018-04-27 09:00:00</td></tr><tr><td>2018-04-27 09:01:00</td></tr><tr><td>2018-04-27 09:02:00</td></tr><tr><td>2018-04-27 09:03:00</td></tr><tr><td>2018-04-27 09:04:00</td></tr><tr><td>&hellip;</td></tr><tr><td>2024-08-18 16:35:00</td></tr><tr><td>2024-08-18 16:36:00</td></tr><tr><td>2024-08-18 16:37:00</td></tr><tr><td>2024-08-18 16:38:00</td></tr><tr><td>2024-08-18 16:39:00</td></tr></tbody></table></div>"
      ],
      "text/plain": [
       "shape: (3_319_660, 1)\n",
       "┌─────────────────────┐\n",
       "│ date                │\n",
       "│ ---                 │\n",
       "│ datetime[μs]        │\n",
       "╞═════════════════════╡\n",
       "│ 2018-04-27 09:00:00 │\n",
       "│ 2018-04-27 09:01:00 │\n",
       "│ 2018-04-27 09:02:00 │\n",
       "│ 2018-04-27 09:03:00 │\n",
       "│ 2018-04-27 09:04:00 │\n",
       "│ …                   │\n",
       "│ 2024-08-18 16:35:00 │\n",
       "│ 2024-08-18 16:36:00 │\n",
       "│ 2024-08-18 16:37:00 │\n",
       "│ 2024-08-18 16:38:00 │\n",
       "│ 2024-08-18 16:39:00 │\n",
       "└─────────────────────┘"
      ]
     },
     "execution_count": 4,
     "metadata": {},
     "output_type": "execute_result"
    }
   ],
   "source": [
    "from datetime import datetime, timedelta\n",
    "\n",
    "\n",
    "date_list = []\n",
    "current_date = min_date\n",
    "\n",
    "while current_date <= max_date:\n",
    "    date_list.append(current_date)\n",
    "    current_date += timedelta(minutes=1)\n",
    "\n",
    "\n",
    "# Polars DataFrame으로 변환\n",
    "result_raw = pl.DataFrame({\n",
    "    \"date\": [dt.strftime('%Y-%m-%d %H:%M:%S') for dt in date_list]\n",
    "}).with_columns(\n",
    "    pl.col(\"date\").str.strptime(pl.Datetime, format=\"%Y-%m-%d %H:%M:%S\")\n",
    ")\n",
    "\n",
    "result_raw\n"
   ]
  },
  {
   "cell_type": "code",
   "execution_count": 6,
   "metadata": {},
   "outputs": [],
   "source": [
    "STEP = 1600\n",
    "os.makedirs(f\"result{STEP}\", exist_ok=True)\n",
    "for start in range(0, len(files), STEP):\n",
    "    result = result_raw\n",
    "    for d in files[start:start+STEP]:\n",
    "        df = pl.read_csv(f\"result/{d}\").sort(\"date\")\n",
    "        if df.height > 2 and df[-1, \"date\"] == df[-2, \"date\"]:\n",
    "            df = df[:-1]\n",
    "        df = df.with_columns(\n",
    "            pl.col(\"date\").str.to_datetime(format=\"%Y-%m-%d %H:%M:%S\").dt.truncate(\"1m\")\n",
    "        ).unique(\"date\", keep=\"last\")\n",
    "\n",
    "        result = result.join(df, on=\"date\", how=\"left\")\n",
    "    result.write_csv(f\"result{STEP}/result{start}.csv\")"
   ]
  },
  {
   "cell_type": "code",
   "execution_count": null,
   "metadata": {},
   "outputs": [],
   "source": []
  }
 ],
 "metadata": {
  "kernelspec": {
   "display_name": "Python 3",
   "language": "python",
   "name": "python3"
  },
  "language_info": {
   "codemirror_mode": {
    "name": "ipython",
    "version": 3
   },
   "file_extension": ".py",
   "mimetype": "text/x-python",
   "name": "python",
   "nbconvert_exporter": "python",
   "pygments_lexer": "ipython3",
   "version": "3.10.5"
  }
 },
 "nbformat": 4,
 "nbformat_minor": 2
}
