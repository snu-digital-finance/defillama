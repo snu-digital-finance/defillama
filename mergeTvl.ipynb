{
 "cells": [
  {
   "cell_type": "code",
   "execution_count": 1,
   "metadata": {},
   "outputs": [
    {
     "name": "stderr",
     "output_type": "stream",
     "text": [
      "WARNING: Ignoring invalid distribution -ip (c:\\python310\\lib\\site-packages)\n",
      "WARNING: Ignoring invalid distribution -ip (c:\\python310\\lib\\site-packages)\n",
      "\n",
      "[notice] A new release of pip is available: 23.1.2 -> 24.2\n",
      "[notice] To update, run: python.exe -m pip install --upgrade pip\n"
     ]
    }
   ],
   "source": [
    "!pip install -q polars"
   ]
  },
  {
   "cell_type": "code",
   "execution_count": null,
   "metadata": {},
   "outputs": [],
   "source": [
    "import polars as pl\n",
    "from datetime import datetime\n",
    "from util import *"
   ]
  },
  {
   "cell_type": "markdown",
   "metadata": {},
   "source": [
    "# Downlaod CSV"
   ]
  },
  {
   "cell_type": "markdown",
   "metadata": {},
   "source": [
    "Protocol"
   ]
  },
  {
   "cell_type": "code",
   "execution_count": 3,
   "metadata": {},
   "outputs": [
    {
     "name": "stdout",
     "output_type": "stream",
     "text": [
      "2018-04-27 00:00:00 2024-08-25 00:00:00\n"
     ]
    }
   ],
   "source": [
    "for d in files:\n",
    "    df = pl.read_csv(f\"df_protocol/{d}\").sort(\"Timestamp\")\n",
    "    df = cast_datetime(df, col=\"Timestamp\")\n",
    "    df = truncate_datetime(df, col=\"Timestamp\",trun=\"1d\")\n",
    "\n",
    "    temp = df[\"Timestamp\"].value_counts().sort(\"Timestamp\").filter(pl.col(\"count\") > 1)\n",
    "    if temp.shape[0]:\n",
    "        print(d, \"has duplicates\")\n",
    "        print(temp)\n",
    "\n",
    "    df = df.unique(\"Timestamp\", keep=\"last\")\n",
    "    min_date.append(df[\"Timestamp\"].dt.min())\n",
    "    max_date.append(df[\"Timestamp\"].dt.max())\n",
    "\n",
    "\n",
    "min_date = pl.Series(\"min_date\", min_date).dt.min()\n",
    "max_date = pl.Series(\"max_date\", max_date).dt.max()\n",
    "\n",
    "print(min_date, max_date)\n",
    "\n",
    "result_raw = get_empty_result(\n",
    "    min_date, max_date, step=\"day\", col=\"Timestamp\")"
   ]
  },
  {
   "cell_type": "code",
   "execution_count": 5,
   "metadata": {},
   "outputs": [],
   "source": [
    "STEP = 1000\n",
    "os.makedirs(f\"result{STEP}\", exist_ok=True)\n",
    "\n",
    "for i in range(0, len(files), STEP):\n",
    "    result = result_raw\n",
    "    for d in files[i:i+STEP]:\n",
    "        df = pl.read_csv(f\"df_protocol/{d}\").sort(\"Timestamp\")\n",
    "        df = df.drop([\"Date\"])\n",
    "        df = cast_column_type_without_date(df)\n",
    "        df = cast_datetime(df, has_ms=False, col=\"Timestamp\")\n",
    "        df = truncate_datetime(df, \"Timestamp\", \"1d\")\n",
    "        result = result.join(df, on=\"Timestamp\", how=\"left\")\n",
    "\n",
    "    result = drop_null_rows(result)\n",
    "    result = result.sort(\"Timestamp\")\n",
    "    result.write_csv(f\"result{STEP}/result{i}.csv\")"
   ]
  },
  {
   "cell_type": "markdown",
   "metadata": {},
   "source": [
    "Chain"
   ]
  },
  {
   "cell_type": "code",
   "execution_count": 2,
   "metadata": {},
   "outputs": [
    {
     "name": "stdout",
     "output_type": "stream",
     "text": [
      "2018-04-27 00:00:00 2024-08-25 00:00:00\n"
     ]
    }
   ],
   "source": [
    "min_date = []\n",
    "max_date = []\n",
    "files = os.listdir(\"df_chain\")\n",
    "\n",
    "\n",
    "for d in files:\n",
    "    try:\n",
    "        df = pl.read_csv(f\"df_chain/{d}\").sort(\"date\")\n",
    "        df = cast_datetime(df, col=\"date\", dt_format=\"%Y-%m-%d\")\n",
    "        # df = truncate_datetime(df, col=\"date\",trun=\"1d\")\n",
    "\n",
    "        temp = df[\"date\"].value_counts().sort(\"date\").filter(pl.col(\"count\") > 1)\n",
    "        if temp.shape[0]:\n",
    "            print(d, \"has duplicates\")\n",
    "            print(temp)\n",
    "\n",
    "        df = df.unique(\"date\", keep=\"last\")\n",
    "        min_date.append(df[\"date\"].dt.min())\n",
    "        max_date.append(df[\"date\"].dt.max())\n",
    "    except:\n",
    "        print(d)\n",
    "\n",
    "\n",
    "min_date = pl.Series(\"min_date\", min_date).dt.min()\n",
    "max_date = pl.Series(\"max_date\", max_date).dt.max()\n",
    "\n",
    "print(min_date, max_date)\n",
    "\n",
    "result_raw = get_empty_result(\n",
    "    min_date, max_date, step=\"day\", col=\"date\")"
   ]
  },
  {
   "cell_type": "code",
   "execution_count": 3,
   "metadata": {},
   "outputs": [],
   "source": [
    "STEP = 500\n",
    "os.makedirs(f\"result_chain{STEP}\", exist_ok=True)\n",
    "\n",
    "for i in range(0, len(files), STEP):\n",
    "    result = result_raw\n",
    "    for d in files[i:i+STEP]:\n",
    "        df = pl.read_csv(f\"df_chain/{d}\").sort(\"date\")\n",
    "        df = cast_column_type_without_date(df)\n",
    "        df = cast_datetime(df, dt_format=\"%Y-%m-%d\", col=\"date\")\n",
    "        df = truncate_datetime(df, \"date\", \"1d\")\n",
    "        result = result.join(df, on=\"date\", how=\"left\")\n",
    "\n",
    "    result = drop_null_rows(result)\n",
    "    result = result.sort(\"date\")\n",
    "    result.write_csv(f\"result_chain{STEP}/result{i}.csv\")"
   ]
  }
 ],
 "metadata": {
  "kernelspec": {
   "display_name": "Python 3",
   "language": "python",
   "name": "python3"
  },
  "language_info": {
   "codemirror_mode": {
    "name": "ipython",
    "version": 3
   },
   "file_extension": ".py",
   "mimetype": "text/x-python",
   "name": "python",
   "nbconvert_exporter": "python",
   "pygments_lexer": "ipython3",
   "version": "3.10.5"
  }
 },
 "nbformat": 4,
 "nbformat_minor": 2
}
