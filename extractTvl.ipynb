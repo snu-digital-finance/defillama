{
 "cells": [
  {
   "cell_type": "code",
   "execution_count": 11,
   "metadata": {},
   "outputs": [],
   "source": [
    "import requests\n",
    "import pandas as pd\n",
    "import os\n",
    "from datetime import datetime\n",
    "from io import StringIO\n",
    "import json"
   ]
  },
  {
   "cell_type": "code",
   "execution_count": null,
   "metadata": {},
   "outputs": [],
   "source": [
    "def get_list(url:str, types:str=None):\n",
    "    response = requests.get(url)\n",
    "    data = response.json()\n",
    "    df = pd.DataFrame(data)\n",
    "    if types==\"protocol\":\n",
    "        df[\"protocol\"] = df[\"name\"].apply(lambda x: x.lower().replace(\" \", \"-\"))\n",
    "    df.to_excel(f\"{types}.xlsx\", index=False)\n",
    "    print(df.shape, df.columns)\n",
    "    return df"
   ]
  },
  {
   "cell_type": "code",
   "execution_count": 4,
   "metadata": {},
   "outputs": [],
   "source": [
    "def request_csv(url:str):\n",
    "    response = requests.get(url, allow_redirects=True)\n",
    "    data = response.content.decode(\"utf-8\")\n",
    "    if data == \"Internal server error\":\n",
    "        return None\n",
    "    return pd.read_csv(StringIO(data), sep=\",\")"
   ]
  },
  {
   "cell_type": "markdown",
   "metadata": {},
   "source": [
    "# Download Protocol"
   ]
  },
  {
   "cell_type": "code",
   "execution_count": null,
   "metadata": {},
   "outputs": [],
   "source": [
    "url = \"https://api.llama.fi/protocols\"\n",
    "df_protocol = get_list(url, \"protocol\")\n",
    "df_protocol.head()"
   ]
  },
  {
   "cell_type": "code",
   "execution_count": null,
   "metadata": {},
   "outputs": [],
   "source": [
    "import warnings\n",
    "warnings.simplefilter(action='ignore', category=pd.errors.DtypeWarning)\n",
    "\n",
    "df_protocol = pd.read_excel(\"protocol.xlsx\")\n",
    "\n",
    "failed = []\n",
    "os.makedirs(\"df_protocol\", exist_ok=True)\n",
    "\n",
    "for v in df_protocol[\"protocol\"]:\n",
    "    url = \"https://api.llama.fi/dataset/%s.csv\" % v\n",
    "    df = request_csv(url)\n",
    "    if df is None or df.empty:\n",
    "        failed.append(name)\n",
    "        continue\n",
    "\n",
    "    try:\n",
    "        df = df.reset_index()\n",
    "        total = df.iloc[1].astype(str).str.contains(\"Total\")\n",
    "        tvl = df.iloc[2].astype(str).str.contains(\"TVL\")\n",
    "        col = df.columns[total & tvl]\n",
    "\n",
    "        if len(col) == 0:\n",
    "            print(v, \"Columns not found\")\n",
    "            # failed.append(v)\n",
    "            continue\n",
    "        if len(col) > 1:\n",
    "            print(v, \"Multiple columns found\")\n",
    "            print(col)\n",
    "            # failed.append(v)\n",
    "            continue\n",
    "\n",
    "        df = df.iloc[4:]\n",
    "        df[\"Timestamp\"] = df[\"Timestamp\"].apply(lambda x: datetime.fromtimestamp(x))\n",
    "        col = col.item()    \n",
    "        df = df[[\"Date\", \"Timestamp\", col]]\n",
    "        df.to_csv(f\"df_protocol/{v}.csv\", index=False)\n",
    "    except Exception as e:\n",
    "        print(v, e)\n",
    "\n",
    "failed"
   ]
  },
  {
   "cell_type": "markdown",
   "metadata": {},
   "source": [
    "# Download Chain"
   ]
  },
  {
   "cell_type": "code",
   "execution_count": 5,
   "metadata": {},
   "outputs": [
    {
     "name": "stdout",
     "output_type": "stream",
     "text": [
      "(298, 6) Index(['gecko_id', 'tvl', 'tokenSymbol', 'cmcId', 'name', 'chainId'], dtype='object')\n"
     ]
    },
    {
     "data": {
      "text/html": [
       "<div>\n",
       "<style scoped>\n",
       "    .dataframe tbody tr th:only-of-type {\n",
       "        vertical-align: middle;\n",
       "    }\n",
       "\n",
       "    .dataframe tbody tr th {\n",
       "        vertical-align: top;\n",
       "    }\n",
       "\n",
       "    .dataframe thead th {\n",
       "        text-align: right;\n",
       "    }\n",
       "</style>\n",
       "<table border=\"1\" class=\"dataframe\">\n",
       "  <thead>\n",
       "    <tr style=\"text-align: right;\">\n",
       "      <th></th>\n",
       "      <th>gecko_id</th>\n",
       "      <th>tvl</th>\n",
       "      <th>tokenSymbol</th>\n",
       "      <th>cmcId</th>\n",
       "      <th>name</th>\n",
       "      <th>chainId</th>\n",
       "    </tr>\n",
       "  </thead>\n",
       "  <tbody>\n",
       "    <tr>\n",
       "      <th>0</th>\n",
       "      <td>harmony</td>\n",
       "      <td>1.645639e+06</td>\n",
       "      <td>ONE</td>\n",
       "      <td>3945</td>\n",
       "      <td>Harmony</td>\n",
       "      <td>1666600000</td>\n",
       "    </tr>\n",
       "    <tr>\n",
       "      <th>1</th>\n",
       "      <td>mantle</td>\n",
       "      <td>4.591852e+08</td>\n",
       "      <td>MNT</td>\n",
       "      <td>27075</td>\n",
       "      <td>Mantle</td>\n",
       "      <td>5000</td>\n",
       "    </tr>\n",
       "    <tr>\n",
       "      <th>2</th>\n",
       "      <td>binancecoin</td>\n",
       "      <td>4.226293e+09</td>\n",
       "      <td>BNB</td>\n",
       "      <td>1839</td>\n",
       "      <td>BSC</td>\n",
       "      <td>56</td>\n",
       "    </tr>\n",
       "    <tr>\n",
       "      <th>3</th>\n",
       "      <td>aurora-near</td>\n",
       "      <td>1.615444e+07</td>\n",
       "      <td>AURORA</td>\n",
       "      <td>14803</td>\n",
       "      <td>Aurora</td>\n",
       "      <td>1313161554</td>\n",
       "    </tr>\n",
       "    <tr>\n",
       "      <th>4</th>\n",
       "      <td>x-layer</td>\n",
       "      <td>9.810801e+06</td>\n",
       "      <td>None</td>\n",
       "      <td>None</td>\n",
       "      <td>X Layer</td>\n",
       "      <td>None</td>\n",
       "    </tr>\n",
       "  </tbody>\n",
       "</table>\n",
       "</div>"
      ],
      "text/plain": [
       "      gecko_id           tvl tokenSymbol  cmcId     name     chainId\n",
       "0      harmony  1.645639e+06         ONE   3945  Harmony  1666600000\n",
       "1       mantle  4.591852e+08         MNT  27075   Mantle        5000\n",
       "2  binancecoin  4.226293e+09         BNB   1839      BSC          56\n",
       "3  aurora-near  1.615444e+07      AURORA  14803   Aurora  1313161554\n",
       "4      x-layer  9.810801e+06        None   None  X Layer        None"
      ]
     },
     "execution_count": 5,
     "metadata": {},
     "output_type": "execute_result"
    }
   ],
   "source": [
    "url = \"https://api.llama.fi/v2/chains\"\n",
    "df_chain = get_list(url, \"chain\")\n",
    "df_chain.head()"
   ]
  },
  {
   "cell_type": "code",
   "execution_count": null,
   "metadata": {},
   "outputs": [],
   "source": [
    "failed = []\n",
    "os.makedirs(\"df_chain\", exist_ok=True)\n",
    "\n",
    "for name in df_chain[\"name\"]:\n",
    "    name = name.replace(\" \", \"_\")\n",
    "    try:\n",
    "        url = \"https://api.llama.fi/simpleChainDataset/%s?\" % name\n",
    "        df = request_csv(url)\n",
    "        if df is None or df.empty:\n",
    "            failed.append(name)\n",
    "            continue\n",
    "\n",
    "        df = df.head(1).T.iloc[1:].reset_index()\n",
    "        df[\"date\"] = df[\"index\"].map(lambda x: datetime.strptime(x, '%d/%m/%Y'))\n",
    "        df[\"date\"] = df[\"date\"].dt.strftime('%Y-%m-%d')\n",
    "        df[name] = df[0]\n",
    "        df = df[[\"date\", name]]\n",
    "        df.to_csv(f\"df_chain/{name}.csv\", index=False)\n",
    "        \n",
    "    except Exception as e:\n",
    "        print(name, e)\n",
    "        print(data)"
   ]
  },
  {
   "cell_type": "markdown",
   "metadata": {},
   "source": [
    "# Remove Zero TVL data"
   ]
  },
  {
   "cell_type": "code",
   "execution_count": null,
   "metadata": {},
   "outputs": [],
   "source": [
    "for v in os.listdir(\"df_protocol\"):\n",
    "    df = pd.read_csv(f\"df_protocol/{v}\")\n",
    "    df = df.iloc[:, 2:].fillna(0)\n",
    "    try:\n",
    "        if df.sum().sum() == 0:\n",
    "            os.remove(f\"df_protocol/{v}\")\n",
    "    except Exception as e:\n",
    "        print(v, e)\n",
    "\n",
    "for v in os.listdir(\"df_chain\"):\n",
    "    df = pd.read_csv(f\"df_chain/{v}\")\n",
    "    df = df.iloc[:, 2:].fillna(0)\n",
    "    try:\n",
    "        if df.sum().sum() == 0:\n",
    "            os.remove(f\"df_chain/{v}\")\n",
    "    except Exception as e:\n",
    "        print(v, e)"
   ]
  },
  {
   "cell_type": "code",
   "execution_count": null,
   "metadata": {},
   "outputs": [
    {
     "data": {
      "text/plain": [
       "297"
      ]
     },
     "execution_count": 74,
     "metadata": {},
     "output_type": "execute_result"
    }
   ],
   "source": [
    "len(os.listdir(\"df_chain\"))"
   ]
  },
  {
   "cell_type": "code",
   "execution_count": null,
   "metadata": {},
   "outputs": [
    {
     "data": {
      "text/plain": [
       "4643"
      ]
     },
     "execution_count": 77,
     "metadata": {},
     "output_type": "execute_result"
    }
   ],
   "source": [
    "len(os.listdir(\"df_protocol\"))"
   ]
  }
 ],
 "metadata": {
  "kernelspec": {
   "display_name": "Python 3",
   "language": "python",
   "name": "python3"
  },
  "language_info": {
   "codemirror_mode": {
    "name": "ipython",
    "version": 3
   },
   "file_extension": ".py",
   "mimetype": "text/x-python",
   "name": "python",
   "nbconvert_exporter": "python",
   "pygments_lexer": "ipython3",
   "version": "3.10.5"
  }
 },
 "nbformat": 4,
 "nbformat_minor": 2
}
